{
 "cells": [
  {
   "cell_type": "markdown",
   "metadata": {},
   "source": [
    "# Index <a name=\"indice\"></a>"
   ]
  },
  {
   "cell_type": "markdown",
   "metadata": {},
   "source": [
    "[Importación de librerías](#importacion_librerias)\n",
    "\n",
    "[Funciones](#funciones)\n",
    "\n",
    "[Importación de dato](#importacion_datos)\n",
    "\n",
    "[Modelizacion](#modelo)\n",
    "\n",
    "[Importancia de variables](#importancia_variables)"
   ]
  },
  {
   "cell_type": "markdown",
   "metadata": {},
   "source": [
    "\n",
    "# 1.- Importación de librerías <a name=\"importacion_librerias\"></a>"
   ]
  },
  {
   "cell_type": "markdown",
   "metadata": {},
   "source": [
    "[Volver al índice](#indice)"
   ]
  },
  {
   "cell_type": "code",
   "execution_count": 1,
   "metadata": {},
   "outputs": [],
   "source": [
    "import pandas as pd\n",
    "import numpy as np\n",
    "import matplotlib.pyplot as plt\n",
    "import seaborn as sb\n",
    "import pickle"
   ]
  },
  {
   "cell_type": "code",
   "execution_count": 2,
   "metadata": {},
   "outputs": [],
   "source": [
    "from sklearn.model_selection import train_test_split\n",
    "from sklearn import tree"
   ]
  },
  {
   "cell_type": "markdown",
   "metadata": {},
   "source": [
    "# 2.- Funciones <a name=\"funciones\"></a>"
   ]
  },
  {
   "cell_type": "markdown",
   "metadata": {},
   "source": [
    "[Volver al índice](#indice)"
   ]
  },
  {
   "cell_type": "code",
   "execution_count": 3,
   "metadata": {},
   "outputs": [],
   "source": [
    "from javi_func import *"
   ]
  },
  {
   "cell_type": "code",
   "execution_count": 4,
   "metadata": {},
   "outputs": [
    {
     "data": {
      "text/plain": [
       "'20240422_1545'"
      ]
     },
     "execution_count": 4,
     "metadata": {},
     "output_type": "execute_result"
    }
   ],
   "source": [
    "StrNow=GetStrNow()\n",
    "StrNow"
   ]
  },
  {
   "cell_type": "code",
   "execution_count": 5,
   "metadata": {},
   "outputs": [],
   "source": [
    "OutputFolder='ExploratoryTrain'"
   ]
  },
  {
   "cell_type": "code",
   "execution_count": 6,
   "metadata": {},
   "outputs": [],
   "source": [
    "if not os.path.exists('../output/'+OutputFolder):\n",
    "    os.makedirs('../output/'+OutputFolder)"
   ]
  },
  {
   "cell_type": "code",
   "execution_count": 7,
   "metadata": {},
   "outputs": [],
   "source": [
    "os.mkdir('../output/'+OutputFolder+'/'+StrNow)"
   ]
  },
  {
   "cell_type": "markdown",
   "metadata": {},
   "source": [
    "# 3.- Importación de datos <a name=\"importacion_datos\"></a>"
   ]
  },
  {
   "cell_type": "markdown",
   "metadata": {},
   "source": [
    "[Volver al índice](#indice)"
   ]
  },
  {
   "cell_type": "code",
   "execution_count": 8,
   "metadata": {},
   "outputs": [],
   "source": [
    "ExploratoryPreprocessingFolder='20240422_1408'"
   ]
  },
  {
   "cell_type": "code",
   "execution_count": 9,
   "metadata": {},
   "outputs": [],
   "source": [
    "df_Xy=pd.read_csv('../output/ExploratoryPreprocessing/'+ExploratoryPreprocessingFolder+'/df_Xy.csv', encoding='utf-8')"
   ]
  },
  {
   "cell_type": "code",
   "execution_count": 10,
   "metadata": {},
   "outputs": [
    {
     "data": {
      "text/plain": [
       "(20000, 566)"
      ]
     },
     "execution_count": 10,
     "metadata": {},
     "output_type": "execute_result"
    }
   ],
   "source": [
    "df_Xy.shape"
   ]
  },
  {
   "cell_type": "code",
   "execution_count": 11,
   "metadata": {},
   "outputs": [
    {
     "data": {
      "text/html": [
       "<div>\n",
       "<style scoped>\n",
       "    .dataframe tbody tr th:only-of-type {\n",
       "        vertical-align: middle;\n",
       "    }\n",
       "\n",
       "    .dataframe tbody tr th {\n",
       "        vertical-align: top;\n",
       "    }\n",
       "\n",
       "    .dataframe thead th {\n",
       "        text-align: right;\n",
       "    }\n",
       "</style>\n",
       "<table border=\"1\" class=\"dataframe\">\n",
       "  <thead>\n",
       "    <tr style=\"text-align: right;\">\n",
       "      <th></th>\n",
       "      <th>Unnamed: 0</th>\n",
       "      <th>actualdpdtolerance_344P_MinImp</th>\n",
       "      <th>amtinstpaidbefduel24m_4187115A_MinImp</th>\n",
       "      <th>annuity_780A_MinImp</th>\n",
       "      <th>annuitynextmonth_57A_MinImp</th>\n",
       "      <th>applicationcnt_361L_MinImp</th>\n",
       "      <th>applications30d_658L_MinImp</th>\n",
       "      <th>applicationscnt_1086L_MinImp</th>\n",
       "      <th>applicationscnt_464L_MinImp</th>\n",
       "      <th>applicationscnt_629L_MinImp</th>\n",
       "      <th>...</th>\n",
       "      <th>lastst_736L_MostFreqImp_T</th>\n",
       "      <th>lastst_736L_NullValImp_D</th>\n",
       "      <th>lastst_736L_NullValImp_K</th>\n",
       "      <th>lastst_736L_NullValImp_L</th>\n",
       "      <th>lastst_736L_NullValImp_N</th>\n",
       "      <th>lastst_736L_NullValImp_NullValue</th>\n",
       "      <th>lastst_736L_NullValImp_Q</th>\n",
       "      <th>lastst_736L_NullValImp_S</th>\n",
       "      <th>lastst_736L_NullValImp_T</th>\n",
       "      <th>target</th>\n",
       "    </tr>\n",
       "  </thead>\n",
       "  <tbody>\n",
       "    <tr>\n",
       "      <th>0</th>\n",
       "      <td>0</td>\n",
       "      <td>0.0</td>\n",
       "      <td>0.00</td>\n",
       "      <td>250.000</td>\n",
       "      <td>0.0000</td>\n",
       "      <td>0.0</td>\n",
       "      <td>0.0</td>\n",
       "      <td>0.0</td>\n",
       "      <td>0.0</td>\n",
       "      <td>0.0</td>\n",
       "      <td>...</td>\n",
       "      <td>0</td>\n",
       "      <td>0</td>\n",
       "      <td>0</td>\n",
       "      <td>0</td>\n",
       "      <td>0</td>\n",
       "      <td>1</td>\n",
       "      <td>0</td>\n",
       "      <td>0</td>\n",
       "      <td>0</td>\n",
       "      <td>0</td>\n",
       "    </tr>\n",
       "    <tr>\n",
       "      <th>1</th>\n",
       "      <td>1</td>\n",
       "      <td>0.0</td>\n",
       "      <td>6795.60</td>\n",
       "      <td>2477.600</td>\n",
       "      <td>0.0000</td>\n",
       "      <td>0.0</td>\n",
       "      <td>0.0</td>\n",
       "      <td>0.0</td>\n",
       "      <td>0.0</td>\n",
       "      <td>0.0</td>\n",
       "      <td>...</td>\n",
       "      <td>0</td>\n",
       "      <td>0</td>\n",
       "      <td>1</td>\n",
       "      <td>0</td>\n",
       "      <td>0</td>\n",
       "      <td>0</td>\n",
       "      <td>0</td>\n",
       "      <td>0</td>\n",
       "      <td>0</td>\n",
       "      <td>0</td>\n",
       "    </tr>\n",
       "    <tr>\n",
       "      <th>2</th>\n",
       "      <td>2</td>\n",
       "      <td>0.0</td>\n",
       "      <td>0.00</td>\n",
       "      <td>250.000</td>\n",
       "      <td>0.0000</td>\n",
       "      <td>0.0</td>\n",
       "      <td>0.0</td>\n",
       "      <td>0.0</td>\n",
       "      <td>0.0</td>\n",
       "      <td>0.0</td>\n",
       "      <td>...</td>\n",
       "      <td>0</td>\n",
       "      <td>0</td>\n",
       "      <td>0</td>\n",
       "      <td>0</td>\n",
       "      <td>0</td>\n",
       "      <td>1</td>\n",
       "      <td>0</td>\n",
       "      <td>0</td>\n",
       "      <td>0</td>\n",
       "      <td>0</td>\n",
       "    </tr>\n",
       "    <tr>\n",
       "      <th>3</th>\n",
       "      <td>3</td>\n",
       "      <td>0.0</td>\n",
       "      <td>214471.80</td>\n",
       "      <td>3192.200</td>\n",
       "      <td>0.0000</td>\n",
       "      <td>0.0</td>\n",
       "      <td>0.0</td>\n",
       "      <td>0.0</td>\n",
       "      <td>0.0</td>\n",
       "      <td>0.0</td>\n",
       "      <td>...</td>\n",
       "      <td>0</td>\n",
       "      <td>1</td>\n",
       "      <td>0</td>\n",
       "      <td>0</td>\n",
       "      <td>0</td>\n",
       "      <td>0</td>\n",
       "      <td>0</td>\n",
       "      <td>0</td>\n",
       "      <td>0</td>\n",
       "      <td>1</td>\n",
       "    </tr>\n",
       "    <tr>\n",
       "      <th>4</th>\n",
       "      <td>4</td>\n",
       "      <td>0.0</td>\n",
       "      <td>201225.62</td>\n",
       "      <td>11481.601</td>\n",
       "      <td>5748.8003</td>\n",
       "      <td>0.0</td>\n",
       "      <td>0.0</td>\n",
       "      <td>0.0</td>\n",
       "      <td>0.0</td>\n",
       "      <td>0.0</td>\n",
       "      <td>...</td>\n",
       "      <td>0</td>\n",
       "      <td>0</td>\n",
       "      <td>0</td>\n",
       "      <td>0</td>\n",
       "      <td>0</td>\n",
       "      <td>0</td>\n",
       "      <td>0</td>\n",
       "      <td>0</td>\n",
       "      <td>0</td>\n",
       "      <td>0</td>\n",
       "    </tr>\n",
       "  </tbody>\n",
       "</table>\n",
       "<p>5 rows × 566 columns</p>\n",
       "</div>"
      ],
      "text/plain": [
       "   Unnamed: 0  actualdpdtolerance_344P_MinImp  \\\n",
       "0           0                             0.0   \n",
       "1           1                             0.0   \n",
       "2           2                             0.0   \n",
       "3           3                             0.0   \n",
       "4           4                             0.0   \n",
       "\n",
       "   amtinstpaidbefduel24m_4187115A_MinImp  annuity_780A_MinImp  \\\n",
       "0                                   0.00              250.000   \n",
       "1                                6795.60             2477.600   \n",
       "2                                   0.00              250.000   \n",
       "3                              214471.80             3192.200   \n",
       "4                              201225.62            11481.601   \n",
       "\n",
       "   annuitynextmonth_57A_MinImp  applicationcnt_361L_MinImp  \\\n",
       "0                       0.0000                         0.0   \n",
       "1                       0.0000                         0.0   \n",
       "2                       0.0000                         0.0   \n",
       "3                       0.0000                         0.0   \n",
       "4                    5748.8003                         0.0   \n",
       "\n",
       "   applications30d_658L_MinImp  applicationscnt_1086L_MinImp  \\\n",
       "0                          0.0                           0.0   \n",
       "1                          0.0                           0.0   \n",
       "2                          0.0                           0.0   \n",
       "3                          0.0                           0.0   \n",
       "4                          0.0                           0.0   \n",
       "\n",
       "   applicationscnt_464L_MinImp  applicationscnt_629L_MinImp  ...  \\\n",
       "0                          0.0                          0.0  ...   \n",
       "1                          0.0                          0.0  ...   \n",
       "2                          0.0                          0.0  ...   \n",
       "3                          0.0                          0.0  ...   \n",
       "4                          0.0                          0.0  ...   \n",
       "\n",
       "   lastst_736L_MostFreqImp_T  lastst_736L_NullValImp_D  \\\n",
       "0                          0                         0   \n",
       "1                          0                         0   \n",
       "2                          0                         0   \n",
       "3                          0                         1   \n",
       "4                          0                         0   \n",
       "\n",
       "   lastst_736L_NullValImp_K  lastst_736L_NullValImp_L  \\\n",
       "0                         0                         0   \n",
       "1                         1                         0   \n",
       "2                         0                         0   \n",
       "3                         0                         0   \n",
       "4                         0                         0   \n",
       "\n",
       "   lastst_736L_NullValImp_N  lastst_736L_NullValImp_NullValue  \\\n",
       "0                         0                                 1   \n",
       "1                         0                                 0   \n",
       "2                         0                                 1   \n",
       "3                         0                                 0   \n",
       "4                         0                                 0   \n",
       "\n",
       "   lastst_736L_NullValImp_Q  lastst_736L_NullValImp_S  \\\n",
       "0                         0                         0   \n",
       "1                         0                         0   \n",
       "2                         0                         0   \n",
       "3                         0                         0   \n",
       "4                         0                         0   \n",
       "\n",
       "   lastst_736L_NullValImp_T  target  \n",
       "0                         0       0  \n",
       "1                         0       0  \n",
       "2                         0       0  \n",
       "3                         0       1  \n",
       "4                         0       0  \n",
       "\n",
       "[5 rows x 566 columns]"
      ]
     },
     "execution_count": 11,
     "metadata": {},
     "output_type": "execute_result"
    }
   ],
   "source": [
    "df_Xy.head()"
   ]
  },
  {
   "cell_type": "code",
   "execution_count": 12,
   "metadata": {},
   "outputs": [],
   "source": [
    "del df_Xy['Unnamed: 0']"
   ]
  },
  {
   "cell_type": "code",
   "execution_count": 13,
   "metadata": {},
   "outputs": [
    {
     "data": {
      "text/html": [
       "<div>\n",
       "<style scoped>\n",
       "    .dataframe tbody tr th:only-of-type {\n",
       "        vertical-align: middle;\n",
       "    }\n",
       "\n",
       "    .dataframe tbody tr th {\n",
       "        vertical-align: top;\n",
       "    }\n",
       "\n",
       "    .dataframe thead th {\n",
       "        text-align: right;\n",
       "    }\n",
       "</style>\n",
       "<table border=\"1\" class=\"dataframe\">\n",
       "  <thead>\n",
       "    <tr style=\"text-align: right;\">\n",
       "      <th></th>\n",
       "      <th>actualdpdtolerance_344P_MinImp</th>\n",
       "      <th>amtinstpaidbefduel24m_4187115A_MinImp</th>\n",
       "      <th>annuity_780A_MinImp</th>\n",
       "      <th>annuitynextmonth_57A_MinImp</th>\n",
       "      <th>applicationcnt_361L_MinImp</th>\n",
       "      <th>applications30d_658L_MinImp</th>\n",
       "      <th>applicationscnt_1086L_MinImp</th>\n",
       "      <th>applicationscnt_464L_MinImp</th>\n",
       "      <th>applicationscnt_629L_MinImp</th>\n",
       "      <th>applicationscnt_867L_MinImp</th>\n",
       "      <th>...</th>\n",
       "      <th>lastst_736L_MostFreqImp_T</th>\n",
       "      <th>lastst_736L_NullValImp_D</th>\n",
       "      <th>lastst_736L_NullValImp_K</th>\n",
       "      <th>lastst_736L_NullValImp_L</th>\n",
       "      <th>lastst_736L_NullValImp_N</th>\n",
       "      <th>lastst_736L_NullValImp_NullValue</th>\n",
       "      <th>lastst_736L_NullValImp_Q</th>\n",
       "      <th>lastst_736L_NullValImp_S</th>\n",
       "      <th>lastst_736L_NullValImp_T</th>\n",
       "      <th>target</th>\n",
       "    </tr>\n",
       "  </thead>\n",
       "  <tbody>\n",
       "    <tr>\n",
       "      <th>0</th>\n",
       "      <td>0.0</td>\n",
       "      <td>0.00</td>\n",
       "      <td>250.000</td>\n",
       "      <td>0.0000</td>\n",
       "      <td>0.0</td>\n",
       "      <td>0.0</td>\n",
       "      <td>0.0</td>\n",
       "      <td>0.0</td>\n",
       "      <td>0.0</td>\n",
       "      <td>0.0</td>\n",
       "      <td>...</td>\n",
       "      <td>0</td>\n",
       "      <td>0</td>\n",
       "      <td>0</td>\n",
       "      <td>0</td>\n",
       "      <td>0</td>\n",
       "      <td>1</td>\n",
       "      <td>0</td>\n",
       "      <td>0</td>\n",
       "      <td>0</td>\n",
       "      <td>0</td>\n",
       "    </tr>\n",
       "    <tr>\n",
       "      <th>1</th>\n",
       "      <td>0.0</td>\n",
       "      <td>6795.60</td>\n",
       "      <td>2477.600</td>\n",
       "      <td>0.0000</td>\n",
       "      <td>0.0</td>\n",
       "      <td>0.0</td>\n",
       "      <td>0.0</td>\n",
       "      <td>0.0</td>\n",
       "      <td>0.0</td>\n",
       "      <td>0.0</td>\n",
       "      <td>...</td>\n",
       "      <td>0</td>\n",
       "      <td>0</td>\n",
       "      <td>1</td>\n",
       "      <td>0</td>\n",
       "      <td>0</td>\n",
       "      <td>0</td>\n",
       "      <td>0</td>\n",
       "      <td>0</td>\n",
       "      <td>0</td>\n",
       "      <td>0</td>\n",
       "    </tr>\n",
       "    <tr>\n",
       "      <th>2</th>\n",
       "      <td>0.0</td>\n",
       "      <td>0.00</td>\n",
       "      <td>250.000</td>\n",
       "      <td>0.0000</td>\n",
       "      <td>0.0</td>\n",
       "      <td>0.0</td>\n",
       "      <td>0.0</td>\n",
       "      <td>0.0</td>\n",
       "      <td>0.0</td>\n",
       "      <td>0.0</td>\n",
       "      <td>...</td>\n",
       "      <td>0</td>\n",
       "      <td>0</td>\n",
       "      <td>0</td>\n",
       "      <td>0</td>\n",
       "      <td>0</td>\n",
       "      <td>1</td>\n",
       "      <td>0</td>\n",
       "      <td>0</td>\n",
       "      <td>0</td>\n",
       "      <td>0</td>\n",
       "    </tr>\n",
       "    <tr>\n",
       "      <th>3</th>\n",
       "      <td>0.0</td>\n",
       "      <td>214471.80</td>\n",
       "      <td>3192.200</td>\n",
       "      <td>0.0000</td>\n",
       "      <td>0.0</td>\n",
       "      <td>0.0</td>\n",
       "      <td>0.0</td>\n",
       "      <td>0.0</td>\n",
       "      <td>0.0</td>\n",
       "      <td>0.0</td>\n",
       "      <td>...</td>\n",
       "      <td>0</td>\n",
       "      <td>1</td>\n",
       "      <td>0</td>\n",
       "      <td>0</td>\n",
       "      <td>0</td>\n",
       "      <td>0</td>\n",
       "      <td>0</td>\n",
       "      <td>0</td>\n",
       "      <td>0</td>\n",
       "      <td>1</td>\n",
       "    </tr>\n",
       "    <tr>\n",
       "      <th>4</th>\n",
       "      <td>0.0</td>\n",
       "      <td>201225.62</td>\n",
       "      <td>11481.601</td>\n",
       "      <td>5748.8003</td>\n",
       "      <td>0.0</td>\n",
       "      <td>0.0</td>\n",
       "      <td>0.0</td>\n",
       "      <td>0.0</td>\n",
       "      <td>0.0</td>\n",
       "      <td>1.0</td>\n",
       "      <td>...</td>\n",
       "      <td>0</td>\n",
       "      <td>0</td>\n",
       "      <td>0</td>\n",
       "      <td>0</td>\n",
       "      <td>0</td>\n",
       "      <td>0</td>\n",
       "      <td>0</td>\n",
       "      <td>0</td>\n",
       "      <td>0</td>\n",
       "      <td>0</td>\n",
       "    </tr>\n",
       "  </tbody>\n",
       "</table>\n",
       "<p>5 rows × 565 columns</p>\n",
       "</div>"
      ],
      "text/plain": [
       "   actualdpdtolerance_344P_MinImp  amtinstpaidbefduel24m_4187115A_MinImp  \\\n",
       "0                             0.0                                   0.00   \n",
       "1                             0.0                                6795.60   \n",
       "2                             0.0                                   0.00   \n",
       "3                             0.0                              214471.80   \n",
       "4                             0.0                              201225.62   \n",
       "\n",
       "   annuity_780A_MinImp  annuitynextmonth_57A_MinImp  \\\n",
       "0              250.000                       0.0000   \n",
       "1             2477.600                       0.0000   \n",
       "2              250.000                       0.0000   \n",
       "3             3192.200                       0.0000   \n",
       "4            11481.601                    5748.8003   \n",
       "\n",
       "   applicationcnt_361L_MinImp  applications30d_658L_MinImp  \\\n",
       "0                         0.0                          0.0   \n",
       "1                         0.0                          0.0   \n",
       "2                         0.0                          0.0   \n",
       "3                         0.0                          0.0   \n",
       "4                         0.0                          0.0   \n",
       "\n",
       "   applicationscnt_1086L_MinImp  applicationscnt_464L_MinImp  \\\n",
       "0                           0.0                          0.0   \n",
       "1                           0.0                          0.0   \n",
       "2                           0.0                          0.0   \n",
       "3                           0.0                          0.0   \n",
       "4                           0.0                          0.0   \n",
       "\n",
       "   applicationscnt_629L_MinImp  applicationscnt_867L_MinImp  ...  \\\n",
       "0                          0.0                          0.0  ...   \n",
       "1                          0.0                          0.0  ...   \n",
       "2                          0.0                          0.0  ...   \n",
       "3                          0.0                          0.0  ...   \n",
       "4                          0.0                          1.0  ...   \n",
       "\n",
       "   lastst_736L_MostFreqImp_T  lastst_736L_NullValImp_D  \\\n",
       "0                          0                         0   \n",
       "1                          0                         0   \n",
       "2                          0                         0   \n",
       "3                          0                         1   \n",
       "4                          0                         0   \n",
       "\n",
       "   lastst_736L_NullValImp_K  lastst_736L_NullValImp_L  \\\n",
       "0                         0                         0   \n",
       "1                         1                         0   \n",
       "2                         0                         0   \n",
       "3                         0                         0   \n",
       "4                         0                         0   \n",
       "\n",
       "   lastst_736L_NullValImp_N  lastst_736L_NullValImp_NullValue  \\\n",
       "0                         0                                 1   \n",
       "1                         0                                 0   \n",
       "2                         0                                 1   \n",
       "3                         0                                 0   \n",
       "4                         0                                 0   \n",
       "\n",
       "   lastst_736L_NullValImp_Q  lastst_736L_NullValImp_S  \\\n",
       "0                         0                         0   \n",
       "1                         0                         0   \n",
       "2                         0                         0   \n",
       "3                         0                         0   \n",
       "4                         0                         0   \n",
       "\n",
       "   lastst_736L_NullValImp_T  target  \n",
       "0                         0       0  \n",
       "1                         0       0  \n",
       "2                         0       0  \n",
       "3                         0       1  \n",
       "4                         0       0  \n",
       "\n",
       "[5 rows x 565 columns]"
      ]
     },
     "execution_count": 13,
     "metadata": {},
     "output_type": "execute_result"
    }
   ],
   "source": [
    "df_Xy.head()"
   ]
  },
  {
   "cell_type": "markdown",
   "metadata": {},
   "source": [
    "## 3.1 Variable Objetivo"
   ]
  },
  {
   "cell_type": "code",
   "execution_count": 14,
   "metadata": {},
   "outputs": [
    {
     "name": "stdout",
     "output_type": "stream",
     "text": [
      "0    18102\n",
      "1     1898\n",
      "Name: target, dtype: int64\n",
      "0    0.9051\n",
      "1    0.0949\n",
      "Name: target, dtype: float64\n"
     ]
    }
   ],
   "source": [
    "VariableObjetivo='target'\n",
    "print(df_Xy[VariableObjetivo].value_counts())\n",
    "print(df_Xy[VariableObjetivo].value_counts(1))"
   ]
  },
  {
   "cell_type": "markdown",
   "metadata": {},
   "source": [
    "## 3.2 Variable para identificar cada entidad individualmente"
   ]
  },
  {
   "cell_type": "code",
   "execution_count": 15,
   "metadata": {},
   "outputs": [
    {
     "name": "stdout",
     "output_type": "stream",
     "text": [
      "Número de filas: 20000\n",
      "Variables con tantos valores distintos como el número de filas:\n"
     ]
    }
   ],
   "source": [
    "FindPrimaryKey(df_Xy)"
   ]
  },
  {
   "cell_type": "code",
   "execution_count": 16,
   "metadata": {},
   "outputs": [],
   "source": [
    "VariableId='case_id'"
   ]
  },
  {
   "cell_type": "markdown",
   "metadata": {},
   "source": [
    "# 6.- Modelización <a name=\"modelo\"></a>"
   ]
  },
  {
   "cell_type": "markdown",
   "metadata": {},
   "source": [
    "[Volver al índice](#indice)"
   ]
  },
  {
   "cell_type": "markdown",
   "metadata": {},
   "source": [
    "## 6.1 Separación Train/Test"
   ]
  },
  {
   "cell_type": "code",
   "execution_count": 17,
   "metadata": {},
   "outputs": [],
   "source": [
    "X=df_Xy.copy(deep=True)\n",
    "y=X.pop(VariableObjetivo)\n",
    "X_train, X_test, y_train, y_test = train_test_split(X, y,train_size=.5, random_state=42)"
   ]
  },
  {
   "cell_type": "code",
   "execution_count": 18,
   "metadata": {},
   "outputs": [
    {
     "data": {
      "text/html": [
       "<div>\n",
       "<style scoped>\n",
       "    .dataframe tbody tr th:only-of-type {\n",
       "        vertical-align: middle;\n",
       "    }\n",
       "\n",
       "    .dataframe tbody tr th {\n",
       "        vertical-align: top;\n",
       "    }\n",
       "\n",
       "    .dataframe thead th {\n",
       "        text-align: right;\n",
       "    }\n",
       "</style>\n",
       "<table border=\"1\" class=\"dataframe\">\n",
       "  <thead>\n",
       "    <tr style=\"text-align: right;\">\n",
       "      <th></th>\n",
       "      <th>actualdpdtolerance_344P_MinImp</th>\n",
       "      <th>amtinstpaidbefduel24m_4187115A_MinImp</th>\n",
       "      <th>annuity_780A_MinImp</th>\n",
       "      <th>annuitynextmonth_57A_MinImp</th>\n",
       "      <th>applicationcnt_361L_MinImp</th>\n",
       "      <th>applications30d_658L_MinImp</th>\n",
       "      <th>applicationscnt_1086L_MinImp</th>\n",
       "      <th>applicationscnt_464L_MinImp</th>\n",
       "      <th>applicationscnt_629L_MinImp</th>\n",
       "      <th>applicationscnt_867L_MinImp</th>\n",
       "      <th>...</th>\n",
       "      <th>lastst_736L_MostFreqImp_S</th>\n",
       "      <th>lastst_736L_MostFreqImp_T</th>\n",
       "      <th>lastst_736L_NullValImp_D</th>\n",
       "      <th>lastst_736L_NullValImp_K</th>\n",
       "      <th>lastst_736L_NullValImp_L</th>\n",
       "      <th>lastst_736L_NullValImp_N</th>\n",
       "      <th>lastst_736L_NullValImp_NullValue</th>\n",
       "      <th>lastst_736L_NullValImp_Q</th>\n",
       "      <th>lastst_736L_NullValImp_S</th>\n",
       "      <th>lastst_736L_NullValImp_T</th>\n",
       "    </tr>\n",
       "  </thead>\n",
       "  <tbody>\n",
       "    <tr>\n",
       "      <th>0</th>\n",
       "      <td>0.0</td>\n",
       "      <td>0.00</td>\n",
       "      <td>250.000</td>\n",
       "      <td>0.0000</td>\n",
       "      <td>0.0</td>\n",
       "      <td>0.0</td>\n",
       "      <td>0.0</td>\n",
       "      <td>0.0</td>\n",
       "      <td>0.0</td>\n",
       "      <td>0.0</td>\n",
       "      <td>...</td>\n",
       "      <td>0</td>\n",
       "      <td>0</td>\n",
       "      <td>0</td>\n",
       "      <td>0</td>\n",
       "      <td>0</td>\n",
       "      <td>0</td>\n",
       "      <td>1</td>\n",
       "      <td>0</td>\n",
       "      <td>0</td>\n",
       "      <td>0</td>\n",
       "    </tr>\n",
       "    <tr>\n",
       "      <th>1</th>\n",
       "      <td>0.0</td>\n",
       "      <td>6795.60</td>\n",
       "      <td>2477.600</td>\n",
       "      <td>0.0000</td>\n",
       "      <td>0.0</td>\n",
       "      <td>0.0</td>\n",
       "      <td>0.0</td>\n",
       "      <td>0.0</td>\n",
       "      <td>0.0</td>\n",
       "      <td>0.0</td>\n",
       "      <td>...</td>\n",
       "      <td>0</td>\n",
       "      <td>0</td>\n",
       "      <td>0</td>\n",
       "      <td>1</td>\n",
       "      <td>0</td>\n",
       "      <td>0</td>\n",
       "      <td>0</td>\n",
       "      <td>0</td>\n",
       "      <td>0</td>\n",
       "      <td>0</td>\n",
       "    </tr>\n",
       "    <tr>\n",
       "      <th>2</th>\n",
       "      <td>0.0</td>\n",
       "      <td>0.00</td>\n",
       "      <td>250.000</td>\n",
       "      <td>0.0000</td>\n",
       "      <td>0.0</td>\n",
       "      <td>0.0</td>\n",
       "      <td>0.0</td>\n",
       "      <td>0.0</td>\n",
       "      <td>0.0</td>\n",
       "      <td>0.0</td>\n",
       "      <td>...</td>\n",
       "      <td>0</td>\n",
       "      <td>0</td>\n",
       "      <td>0</td>\n",
       "      <td>0</td>\n",
       "      <td>0</td>\n",
       "      <td>0</td>\n",
       "      <td>1</td>\n",
       "      <td>0</td>\n",
       "      <td>0</td>\n",
       "      <td>0</td>\n",
       "    </tr>\n",
       "    <tr>\n",
       "      <th>3</th>\n",
       "      <td>0.0</td>\n",
       "      <td>214471.80</td>\n",
       "      <td>3192.200</td>\n",
       "      <td>0.0000</td>\n",
       "      <td>0.0</td>\n",
       "      <td>0.0</td>\n",
       "      <td>0.0</td>\n",
       "      <td>0.0</td>\n",
       "      <td>0.0</td>\n",
       "      <td>0.0</td>\n",
       "      <td>...</td>\n",
       "      <td>0</td>\n",
       "      <td>0</td>\n",
       "      <td>1</td>\n",
       "      <td>0</td>\n",
       "      <td>0</td>\n",
       "      <td>0</td>\n",
       "      <td>0</td>\n",
       "      <td>0</td>\n",
       "      <td>0</td>\n",
       "      <td>0</td>\n",
       "    </tr>\n",
       "    <tr>\n",
       "      <th>4</th>\n",
       "      <td>0.0</td>\n",
       "      <td>201225.62</td>\n",
       "      <td>11481.601</td>\n",
       "      <td>5748.8003</td>\n",
       "      <td>0.0</td>\n",
       "      <td>0.0</td>\n",
       "      <td>0.0</td>\n",
       "      <td>0.0</td>\n",
       "      <td>0.0</td>\n",
       "      <td>1.0</td>\n",
       "      <td>...</td>\n",
       "      <td>0</td>\n",
       "      <td>0</td>\n",
       "      <td>0</td>\n",
       "      <td>0</td>\n",
       "      <td>0</td>\n",
       "      <td>0</td>\n",
       "      <td>0</td>\n",
       "      <td>0</td>\n",
       "      <td>0</td>\n",
       "      <td>0</td>\n",
       "    </tr>\n",
       "    <tr>\n",
       "      <th>...</th>\n",
       "      <td>...</td>\n",
       "      <td>...</td>\n",
       "      <td>...</td>\n",
       "      <td>...</td>\n",
       "      <td>...</td>\n",
       "      <td>...</td>\n",
       "      <td>...</td>\n",
       "      <td>...</td>\n",
       "      <td>...</td>\n",
       "      <td>...</td>\n",
       "      <td>...</td>\n",
       "      <td>...</td>\n",
       "      <td>...</td>\n",
       "      <td>...</td>\n",
       "      <td>...</td>\n",
       "      <td>...</td>\n",
       "      <td>...</td>\n",
       "      <td>...</td>\n",
       "      <td>...</td>\n",
       "      <td>...</td>\n",
       "      <td>...</td>\n",
       "    </tr>\n",
       "    <tr>\n",
       "      <th>19995</th>\n",
       "      <td>0.0</td>\n",
       "      <td>0.00</td>\n",
       "      <td>250.000</td>\n",
       "      <td>0.0000</td>\n",
       "      <td>0.0</td>\n",
       "      <td>0.0</td>\n",
       "      <td>0.0</td>\n",
       "      <td>0.0</td>\n",
       "      <td>0.0</td>\n",
       "      <td>0.0</td>\n",
       "      <td>...</td>\n",
       "      <td>0</td>\n",
       "      <td>0</td>\n",
       "      <td>0</td>\n",
       "      <td>0</td>\n",
       "      <td>0</td>\n",
       "      <td>0</td>\n",
       "      <td>1</td>\n",
       "      <td>0</td>\n",
       "      <td>0</td>\n",
       "      <td>0</td>\n",
       "    </tr>\n",
       "    <tr>\n",
       "      <th>19996</th>\n",
       "      <td>0.0</td>\n",
       "      <td>0.00</td>\n",
       "      <td>250.000</td>\n",
       "      <td>0.0000</td>\n",
       "      <td>0.0</td>\n",
       "      <td>0.0</td>\n",
       "      <td>0.0</td>\n",
       "      <td>0.0</td>\n",
       "      <td>0.0</td>\n",
       "      <td>0.0</td>\n",
       "      <td>...</td>\n",
       "      <td>0</td>\n",
       "      <td>0</td>\n",
       "      <td>0</td>\n",
       "      <td>0</td>\n",
       "      <td>0</td>\n",
       "      <td>0</td>\n",
       "      <td>1</td>\n",
       "      <td>0</td>\n",
       "      <td>0</td>\n",
       "      <td>0</td>\n",
       "    </tr>\n",
       "    <tr>\n",
       "      <th>19997</th>\n",
       "      <td>0.0</td>\n",
       "      <td>0.00</td>\n",
       "      <td>2158.200</td>\n",
       "      <td>0.0000</td>\n",
       "      <td>0.0</td>\n",
       "      <td>0.0</td>\n",
       "      <td>0.0</td>\n",
       "      <td>2.0</td>\n",
       "      <td>0.0</td>\n",
       "      <td>0.0</td>\n",
       "      <td>...</td>\n",
       "      <td>0</td>\n",
       "      <td>0</td>\n",
       "      <td>0</td>\n",
       "      <td>0</td>\n",
       "      <td>0</td>\n",
       "      <td>0</td>\n",
       "      <td>1</td>\n",
       "      <td>0</td>\n",
       "      <td>0</td>\n",
       "      <td>0</td>\n",
       "    </tr>\n",
       "    <tr>\n",
       "      <th>19998</th>\n",
       "      <td>0.0</td>\n",
       "      <td>0.00</td>\n",
       "      <td>3160.800</td>\n",
       "      <td>3358.4001</td>\n",
       "      <td>0.0</td>\n",
       "      <td>0.0</td>\n",
       "      <td>0.0</td>\n",
       "      <td>0.0</td>\n",
       "      <td>0.0</td>\n",
       "      <td>1.0</td>\n",
       "      <td>...</td>\n",
       "      <td>0</td>\n",
       "      <td>0</td>\n",
       "      <td>0</td>\n",
       "      <td>0</td>\n",
       "      <td>0</td>\n",
       "      <td>0</td>\n",
       "      <td>0</td>\n",
       "      <td>0</td>\n",
       "      <td>0</td>\n",
       "      <td>0</td>\n",
       "    </tr>\n",
       "    <tr>\n",
       "      <th>19999</th>\n",
       "      <td>0.0</td>\n",
       "      <td>0.00</td>\n",
       "      <td>250.000</td>\n",
       "      <td>0.0000</td>\n",
       "      <td>0.0</td>\n",
       "      <td>0.0</td>\n",
       "      <td>0.0</td>\n",
       "      <td>0.0</td>\n",
       "      <td>0.0</td>\n",
       "      <td>0.0</td>\n",
       "      <td>...</td>\n",
       "      <td>0</td>\n",
       "      <td>0</td>\n",
       "      <td>0</td>\n",
       "      <td>0</td>\n",
       "      <td>0</td>\n",
       "      <td>0</td>\n",
       "      <td>1</td>\n",
       "      <td>0</td>\n",
       "      <td>0</td>\n",
       "      <td>0</td>\n",
       "    </tr>\n",
       "  </tbody>\n",
       "</table>\n",
       "<p>20000 rows × 564 columns</p>\n",
       "</div>"
      ],
      "text/plain": [
       "       actualdpdtolerance_344P_MinImp  amtinstpaidbefduel24m_4187115A_MinImp  \\\n",
       "0                                 0.0                                   0.00   \n",
       "1                                 0.0                                6795.60   \n",
       "2                                 0.0                                   0.00   \n",
       "3                                 0.0                              214471.80   \n",
       "4                                 0.0                              201225.62   \n",
       "...                               ...                                    ...   \n",
       "19995                             0.0                                   0.00   \n",
       "19996                             0.0                                   0.00   \n",
       "19997                             0.0                                   0.00   \n",
       "19998                             0.0                                   0.00   \n",
       "19999                             0.0                                   0.00   \n",
       "\n",
       "       annuity_780A_MinImp  annuitynextmonth_57A_MinImp  \\\n",
       "0                  250.000                       0.0000   \n",
       "1                 2477.600                       0.0000   \n",
       "2                  250.000                       0.0000   \n",
       "3                 3192.200                       0.0000   \n",
       "4                11481.601                    5748.8003   \n",
       "...                    ...                          ...   \n",
       "19995              250.000                       0.0000   \n",
       "19996              250.000                       0.0000   \n",
       "19997             2158.200                       0.0000   \n",
       "19998             3160.800                    3358.4001   \n",
       "19999              250.000                       0.0000   \n",
       "\n",
       "       applicationcnt_361L_MinImp  applications30d_658L_MinImp  \\\n",
       "0                             0.0                          0.0   \n",
       "1                             0.0                          0.0   \n",
       "2                             0.0                          0.0   \n",
       "3                             0.0                          0.0   \n",
       "4                             0.0                          0.0   \n",
       "...                           ...                          ...   \n",
       "19995                         0.0                          0.0   \n",
       "19996                         0.0                          0.0   \n",
       "19997                         0.0                          0.0   \n",
       "19998                         0.0                          0.0   \n",
       "19999                         0.0                          0.0   \n",
       "\n",
       "       applicationscnt_1086L_MinImp  applicationscnt_464L_MinImp  \\\n",
       "0                               0.0                          0.0   \n",
       "1                               0.0                          0.0   \n",
       "2                               0.0                          0.0   \n",
       "3                               0.0                          0.0   \n",
       "4                               0.0                          0.0   \n",
       "...                             ...                          ...   \n",
       "19995                           0.0                          0.0   \n",
       "19996                           0.0                          0.0   \n",
       "19997                           0.0                          2.0   \n",
       "19998                           0.0                          0.0   \n",
       "19999                           0.0                          0.0   \n",
       "\n",
       "       applicationscnt_629L_MinImp  applicationscnt_867L_MinImp  ...  \\\n",
       "0                              0.0                          0.0  ...   \n",
       "1                              0.0                          0.0  ...   \n",
       "2                              0.0                          0.0  ...   \n",
       "3                              0.0                          0.0  ...   \n",
       "4                              0.0                          1.0  ...   \n",
       "...                            ...                          ...  ...   \n",
       "19995                          0.0                          0.0  ...   \n",
       "19996                          0.0                          0.0  ...   \n",
       "19997                          0.0                          0.0  ...   \n",
       "19998                          0.0                          1.0  ...   \n",
       "19999                          0.0                          0.0  ...   \n",
       "\n",
       "       lastst_736L_MostFreqImp_S  lastst_736L_MostFreqImp_T  \\\n",
       "0                              0                          0   \n",
       "1                              0                          0   \n",
       "2                              0                          0   \n",
       "3                              0                          0   \n",
       "4                              0                          0   \n",
       "...                          ...                        ...   \n",
       "19995                          0                          0   \n",
       "19996                          0                          0   \n",
       "19997                          0                          0   \n",
       "19998                          0                          0   \n",
       "19999                          0                          0   \n",
       "\n",
       "       lastst_736L_NullValImp_D  lastst_736L_NullValImp_K  \\\n",
       "0                             0                         0   \n",
       "1                             0                         1   \n",
       "2                             0                         0   \n",
       "3                             1                         0   \n",
       "4                             0                         0   \n",
       "...                         ...                       ...   \n",
       "19995                         0                         0   \n",
       "19996                         0                         0   \n",
       "19997                         0                         0   \n",
       "19998                         0                         0   \n",
       "19999                         0                         0   \n",
       "\n",
       "       lastst_736L_NullValImp_L  lastst_736L_NullValImp_N  \\\n",
       "0                             0                         0   \n",
       "1                             0                         0   \n",
       "2                             0                         0   \n",
       "3                             0                         0   \n",
       "4                             0                         0   \n",
       "...                         ...                       ...   \n",
       "19995                         0                         0   \n",
       "19996                         0                         0   \n",
       "19997                         0                         0   \n",
       "19998                         0                         0   \n",
       "19999                         0                         0   \n",
       "\n",
       "       lastst_736L_NullValImp_NullValue  lastst_736L_NullValImp_Q  \\\n",
       "0                                     1                         0   \n",
       "1                                     0                         0   \n",
       "2                                     1                         0   \n",
       "3                                     0                         0   \n",
       "4                                     0                         0   \n",
       "...                                 ...                       ...   \n",
       "19995                                 1                         0   \n",
       "19996                                 1                         0   \n",
       "19997                                 1                         0   \n",
       "19998                                 0                         0   \n",
       "19999                                 1                         0   \n",
       "\n",
       "       lastst_736L_NullValImp_S  lastst_736L_NullValImp_T  \n",
       "0                             0                         0  \n",
       "1                             0                         0  \n",
       "2                             0                         0  \n",
       "3                             0                         0  \n",
       "4                             0                         0  \n",
       "...                         ...                       ...  \n",
       "19995                         0                         0  \n",
       "19996                         0                         0  \n",
       "19997                         0                         0  \n",
       "19998                         0                         0  \n",
       "19999                         0                         0  \n",
       "\n",
       "[20000 rows x 564 columns]"
      ]
     },
     "execution_count": 18,
     "metadata": {},
     "output_type": "execute_result"
    }
   ],
   "source": [
    "X"
   ]
  },
  {
   "cell_type": "code",
   "execution_count": 19,
   "metadata": {},
   "outputs": [
    {
     "data": {
      "text/plain": [
       "0    0.9051\n",
       "1    0.0949\n",
       "Name: target, dtype: float64"
      ]
     },
     "execution_count": 19,
     "metadata": {},
     "output_type": "execute_result"
    }
   ],
   "source": [
    "y.value_counts(1)"
   ]
  },
  {
   "cell_type": "markdown",
   "metadata": {},
   "source": [
    "## 6.2 Modelización mediante Árbol de Decisión"
   ]
  },
  {
   "cell_type": "code",
   "execution_count": 20,
   "metadata": {},
   "outputs": [],
   "source": [
    "import matplotlib.pyplot as plt"
   ]
  },
  {
   "cell_type": "code",
   "execution_count": 21,
   "metadata": {},
   "outputs": [
    {
     "name": "stdout",
     "output_type": "stream",
     "text": [
      "0.028432064016066017\n"
     ]
    },
    {
     "data": {
      "image/png": "[encoded data removed]",
      "text/plain": [
       "<Figure size 2400x1200 with 1 Axes>"
      ]
     },
     "metadata": {
      "needs_background": "light"
     },
     "output_type": "display_data"
    }
   ],
   "source": [
    "clf=tree.DecisionTreeRegressor(min_samples_leaf=0.05)\n",
    "clf=clf.fit(X_train,y_train)\n",
    "print(clf.score(X_test,y_test))\n",
    "fig, ax=plt.subplots(figsize=(24,12),dpi=100)\n",
    "tree.plot_tree(clf,\n",
    "              fontsize=10,\n",
    "              proportion=True,\n",
    "              feature_names=list(X_train.columns),\n",
    "              filled=True,\n",
    "              rounded=True)\n",
    "plt.savefig('tree.png')\n",
    "plt.show() "
   ]
  },
  {
   "cell_type": "markdown",
   "metadata": {},
   "source": [
    "## 6.2 Modelización mediante AutoML (TPOT)"
   ]
  },
  {
   "cell_type": "code",
   "execution_count": 22,
   "metadata": {},
   "outputs": [
    {
     "data": {
      "text/plain": [
       "(10000, 564)"
      ]
     },
     "execution_count": 22,
     "metadata": {},
     "output_type": "execute_result"
    }
   ],
   "source": [
    "X_train.shape"
   ]
  },
  {
   "cell_type": "code",
   "execution_count": 23,
   "metadata": {},
   "outputs": [
    {
     "data": {
      "text/plain": [
       "9434     0\n",
       "3614     0\n",
       "2108     0\n",
       "7773     0\n",
       "13529    0\n",
       "        ..\n",
       "11284    0\n",
       "11964    0\n",
       "5390     0\n",
       "860      0\n",
       "15795    0\n",
       "Name: target, Length: 10000, dtype: int64"
      ]
     },
     "execution_count": 23,
     "metadata": {},
     "output_type": "execute_result"
    }
   ],
   "source": [
    "y_train"
   ]
  },
  {
   "cell_type": "code",
   "execution_count": 24,
   "metadata": {},
   "outputs": [
    {
     "data": {
      "text/plain": [
       "0.0908"
      ]
     },
     "execution_count": 24,
     "metadata": {},
     "output_type": "execute_result"
    }
   ],
   "source": [
    "y_train.mean()"
   ]
  },
  {
   "cell_type": "code",
   "execution_count": 25,
   "metadata": {},
   "outputs": [],
   "source": [
    "import tpot\n",
    "from tpot import TPOTClassifier"
   ]
  },
  {
   "cell_type": "code",
   "execution_count": 26,
   "metadata": {},
   "outputs": [
    {
     "data": {
      "text/html": [
       "<div>\n",
       "<style scoped>\n",
       "    .dataframe tbody tr th:only-of-type {\n",
       "        vertical-align: middle;\n",
       "    }\n",
       "\n",
       "    .dataframe tbody tr th {\n",
       "        vertical-align: top;\n",
       "    }\n",
       "\n",
       "    .dataframe thead th {\n",
       "        text-align: right;\n",
       "    }\n",
       "</style>\n",
       "<table border=\"1\" class=\"dataframe\">\n",
       "  <thead>\n",
       "    <tr style=\"text-align: right;\">\n",
       "      <th></th>\n",
       "      <th>actualdpdtolerance_344P_MinImp</th>\n",
       "      <th>amtinstpaidbefduel24m_4187115A_MinImp</th>\n",
       "      <th>annuity_780A_MinImp</th>\n",
       "      <th>annuitynextmonth_57A_MinImp</th>\n",
       "      <th>applicationcnt_361L_MinImp</th>\n",
       "      <th>applications30d_658L_MinImp</th>\n",
       "      <th>applicationscnt_1086L_MinImp</th>\n",
       "      <th>applicationscnt_464L_MinImp</th>\n",
       "      <th>applicationscnt_629L_MinImp</th>\n",
       "      <th>applicationscnt_867L_MinImp</th>\n",
       "      <th>...</th>\n",
       "      <th>lastst_736L_MostFreqImp_S</th>\n",
       "      <th>lastst_736L_MostFreqImp_T</th>\n",
       "      <th>lastst_736L_NullValImp_D</th>\n",
       "      <th>lastst_736L_NullValImp_K</th>\n",
       "      <th>lastst_736L_NullValImp_L</th>\n",
       "      <th>lastst_736L_NullValImp_N</th>\n",
       "      <th>lastst_736L_NullValImp_NullValue</th>\n",
       "      <th>lastst_736L_NullValImp_Q</th>\n",
       "      <th>lastst_736L_NullValImp_S</th>\n",
       "      <th>lastst_736L_NullValImp_T</th>\n",
       "    </tr>\n",
       "  </thead>\n",
       "  <tbody>\n",
       "    <tr>\n",
       "      <th>9434</th>\n",
       "      <td>0.0</td>\n",
       "      <td>0.000</td>\n",
       "      <td>1168.4000</td>\n",
       "      <td>0.000</td>\n",
       "      <td>0.0</td>\n",
       "      <td>0.0</td>\n",
       "      <td>0.0</td>\n",
       "      <td>0.0</td>\n",
       "      <td>0.0</td>\n",
       "      <td>0.0</td>\n",
       "      <td>...</td>\n",
       "      <td>0</td>\n",
       "      <td>0</td>\n",
       "      <td>0</td>\n",
       "      <td>0</td>\n",
       "      <td>0</td>\n",
       "      <td>0</td>\n",
       "      <td>1</td>\n",
       "      <td>0</td>\n",
       "      <td>0</td>\n",
       "      <td>0</td>\n",
       "    </tr>\n",
       "    <tr>\n",
       "      <th>3614</th>\n",
       "      <td>0.0</td>\n",
       "      <td>0.000</td>\n",
       "      <td>1937.2001</td>\n",
       "      <td>2666.200</td>\n",
       "      <td>0.0</td>\n",
       "      <td>1.0</td>\n",
       "      <td>0.0</td>\n",
       "      <td>0.0</td>\n",
       "      <td>0.0</td>\n",
       "      <td>3.0</td>\n",
       "      <td>...</td>\n",
       "      <td>0</td>\n",
       "      <td>0</td>\n",
       "      <td>0</td>\n",
       "      <td>0</td>\n",
       "      <td>0</td>\n",
       "      <td>0</td>\n",
       "      <td>0</td>\n",
       "      <td>0</td>\n",
       "      <td>0</td>\n",
       "      <td>0</td>\n",
       "    </tr>\n",
       "    <tr>\n",
       "      <th>2108</th>\n",
       "      <td>0.0</td>\n",
       "      <td>0.000</td>\n",
       "      <td>1438.2001</td>\n",
       "      <td>0.000</td>\n",
       "      <td>0.0</td>\n",
       "      <td>0.0</td>\n",
       "      <td>0.0</td>\n",
       "      <td>0.0</td>\n",
       "      <td>0.0</td>\n",
       "      <td>0.0</td>\n",
       "      <td>...</td>\n",
       "      <td>0</td>\n",
       "      <td>0</td>\n",
       "      <td>0</td>\n",
       "      <td>1</td>\n",
       "      <td>0</td>\n",
       "      <td>0</td>\n",
       "      <td>0</td>\n",
       "      <td>0</td>\n",
       "      <td>0</td>\n",
       "      <td>0</td>\n",
       "    </tr>\n",
       "    <tr>\n",
       "      <th>7773</th>\n",
       "      <td>0.0</td>\n",
       "      <td>0.000</td>\n",
       "      <td>250.0000</td>\n",
       "      <td>0.000</td>\n",
       "      <td>0.0</td>\n",
       "      <td>0.0</td>\n",
       "      <td>0.0</td>\n",
       "      <td>0.0</td>\n",
       "      <td>0.0</td>\n",
       "      <td>0.0</td>\n",
       "      <td>...</td>\n",
       "      <td>0</td>\n",
       "      <td>0</td>\n",
       "      <td>0</td>\n",
       "      <td>0</td>\n",
       "      <td>0</td>\n",
       "      <td>0</td>\n",
       "      <td>1</td>\n",
       "      <td>0</td>\n",
       "      <td>0</td>\n",
       "      <td>0</td>\n",
       "    </tr>\n",
       "    <tr>\n",
       "      <th>13529</th>\n",
       "      <td>0.0</td>\n",
       "      <td>0.000</td>\n",
       "      <td>250.0000</td>\n",
       "      <td>0.000</td>\n",
       "      <td>0.0</td>\n",
       "      <td>0.0</td>\n",
       "      <td>0.0</td>\n",
       "      <td>0.0</td>\n",
       "      <td>0.0</td>\n",
       "      <td>0.0</td>\n",
       "      <td>...</td>\n",
       "      <td>0</td>\n",
       "      <td>0</td>\n",
       "      <td>0</td>\n",
       "      <td>0</td>\n",
       "      <td>0</td>\n",
       "      <td>0</td>\n",
       "      <td>1</td>\n",
       "      <td>0</td>\n",
       "      <td>0</td>\n",
       "      <td>0</td>\n",
       "    </tr>\n",
       "    <tr>\n",
       "      <th>...</th>\n",
       "      <td>...</td>\n",
       "      <td>...</td>\n",
       "      <td>...</td>\n",
       "      <td>...</td>\n",
       "      <td>...</td>\n",
       "      <td>...</td>\n",
       "      <td>...</td>\n",
       "      <td>...</td>\n",
       "      <td>...</td>\n",
       "      <td>...</td>\n",
       "      <td>...</td>\n",
       "      <td>...</td>\n",
       "      <td>...</td>\n",
       "      <td>...</td>\n",
       "      <td>...</td>\n",
       "      <td>...</td>\n",
       "      <td>...</td>\n",
       "      <td>...</td>\n",
       "      <td>...</td>\n",
       "      <td>...</td>\n",
       "      <td>...</td>\n",
       "    </tr>\n",
       "    <tr>\n",
       "      <th>11284</th>\n",
       "      <td>0.0</td>\n",
       "      <td>48608.555</td>\n",
       "      <td>5500.2000</td>\n",
       "      <td>0.000</td>\n",
       "      <td>0.0</td>\n",
       "      <td>0.0</td>\n",
       "      <td>0.0</td>\n",
       "      <td>0.0</td>\n",
       "      <td>0.0</td>\n",
       "      <td>6.0</td>\n",
       "      <td>...</td>\n",
       "      <td>0</td>\n",
       "      <td>0</td>\n",
       "      <td>1</td>\n",
       "      <td>0</td>\n",
       "      <td>0</td>\n",
       "      <td>0</td>\n",
       "      <td>0</td>\n",
       "      <td>0</td>\n",
       "      <td>0</td>\n",
       "      <td>0</td>\n",
       "    </tr>\n",
       "    <tr>\n",
       "      <th>11964</th>\n",
       "      <td>0.0</td>\n",
       "      <td>41713.418</td>\n",
       "      <td>4859.0000</td>\n",
       "      <td>0.000</td>\n",
       "      <td>0.0</td>\n",
       "      <td>0.0</td>\n",
       "      <td>0.0</td>\n",
       "      <td>0.0</td>\n",
       "      <td>0.0</td>\n",
       "      <td>7.0</td>\n",
       "      <td>...</td>\n",
       "      <td>0</td>\n",
       "      <td>0</td>\n",
       "      <td>1</td>\n",
       "      <td>0</td>\n",
       "      <td>0</td>\n",
       "      <td>0</td>\n",
       "      <td>0</td>\n",
       "      <td>0</td>\n",
       "      <td>0</td>\n",
       "      <td>0</td>\n",
       "    </tr>\n",
       "    <tr>\n",
       "      <th>5390</th>\n",
       "      <td>0.0</td>\n",
       "      <td>0.000</td>\n",
       "      <td>250.0000</td>\n",
       "      <td>0.000</td>\n",
       "      <td>0.0</td>\n",
       "      <td>0.0</td>\n",
       "      <td>0.0</td>\n",
       "      <td>0.0</td>\n",
       "      <td>0.0</td>\n",
       "      <td>0.0</td>\n",
       "      <td>...</td>\n",
       "      <td>0</td>\n",
       "      <td>0</td>\n",
       "      <td>0</td>\n",
       "      <td>0</td>\n",
       "      <td>0</td>\n",
       "      <td>0</td>\n",
       "      <td>1</td>\n",
       "      <td>0</td>\n",
       "      <td>0</td>\n",
       "      <td>0</td>\n",
       "    </tr>\n",
       "    <tr>\n",
       "      <th>860</th>\n",
       "      <td>0.0</td>\n",
       "      <td>149476.880</td>\n",
       "      <td>3632.0000</td>\n",
       "      <td>11061.601</td>\n",
       "      <td>0.0</td>\n",
       "      <td>0.0</td>\n",
       "      <td>0.0</td>\n",
       "      <td>0.0</td>\n",
       "      <td>0.0</td>\n",
       "      <td>2.0</td>\n",
       "      <td>...</td>\n",
       "      <td>0</td>\n",
       "      <td>0</td>\n",
       "      <td>0</td>\n",
       "      <td>0</td>\n",
       "      <td>0</td>\n",
       "      <td>0</td>\n",
       "      <td>0</td>\n",
       "      <td>0</td>\n",
       "      <td>0</td>\n",
       "      <td>0</td>\n",
       "    </tr>\n",
       "    <tr>\n",
       "      <th>15795</th>\n",
       "      <td>0.0</td>\n",
       "      <td>0.000</td>\n",
       "      <td>250.0000</td>\n",
       "      <td>0.000</td>\n",
       "      <td>0.0</td>\n",
       "      <td>0.0</td>\n",
       "      <td>0.0</td>\n",
       "      <td>0.0</td>\n",
       "      <td>0.0</td>\n",
       "      <td>0.0</td>\n",
       "      <td>...</td>\n",
       "      <td>0</td>\n",
       "      <td>0</td>\n",
       "      <td>0</td>\n",
       "      <td>0</td>\n",
       "      <td>0</td>\n",
       "      <td>0</td>\n",
       "      <td>1</td>\n",
       "      <td>0</td>\n",
       "      <td>0</td>\n",
       "      <td>0</td>\n",
       "    </tr>\n",
       "  </tbody>\n",
       "</table>\n",
       "<p>10000 rows × 564 columns</p>\n",
       "</div>"
      ],
      "text/plain": [
       "       actualdpdtolerance_344P_MinImp  amtinstpaidbefduel24m_4187115A_MinImp  \\\n",
       "9434                              0.0                                  0.000   \n",
       "3614                              0.0                                  0.000   \n",
       "2108                              0.0                                  0.000   \n",
       "7773                              0.0                                  0.000   \n",
       "13529                             0.0                                  0.000   \n",
       "...                               ...                                    ...   \n",
       "11284                             0.0                              48608.555   \n",
       "11964                             0.0                              41713.418   \n",
       "5390                              0.0                                  0.000   \n",
       "860                               0.0                             149476.880   \n",
       "15795                             0.0                                  0.000   \n",
       "\n",
       "       annuity_780A_MinImp  annuitynextmonth_57A_MinImp  \\\n",
       "9434             1168.4000                        0.000   \n",
       "3614             1937.2001                     2666.200   \n",
       "2108             1438.2001                        0.000   \n",
       "7773              250.0000                        0.000   \n",
       "13529             250.0000                        0.000   \n",
       "...                    ...                          ...   \n",
       "11284            5500.2000                        0.000   \n",
       "11964            4859.0000                        0.000   \n",
       "5390              250.0000                        0.000   \n",
       "860              3632.0000                    11061.601   \n",
       "15795             250.0000                        0.000   \n",
       "\n",
       "       applicationcnt_361L_MinImp  applications30d_658L_MinImp  \\\n",
       "9434                          0.0                          0.0   \n",
       "3614                          0.0                          1.0   \n",
       "2108                          0.0                          0.0   \n",
       "7773                          0.0                          0.0   \n",
       "13529                         0.0                          0.0   \n",
       "...                           ...                          ...   \n",
       "11284                         0.0                          0.0   \n",
       "11964                         0.0                          0.0   \n",
       "5390                          0.0                          0.0   \n",
       "860                           0.0                          0.0   \n",
       "15795                         0.0                          0.0   \n",
       "\n",
       "       applicationscnt_1086L_MinImp  applicationscnt_464L_MinImp  \\\n",
       "9434                            0.0                          0.0   \n",
       "3614                            0.0                          0.0   \n",
       "2108                            0.0                          0.0   \n",
       "7773                            0.0                          0.0   \n",
       "13529                           0.0                          0.0   \n",
       "...                             ...                          ...   \n",
       "11284                           0.0                          0.0   \n",
       "11964                           0.0                          0.0   \n",
       "5390                            0.0                          0.0   \n",
       "860                             0.0                          0.0   \n",
       "15795                           0.0                          0.0   \n",
       "\n",
       "       applicationscnt_629L_MinImp  applicationscnt_867L_MinImp  ...  \\\n",
       "9434                           0.0                          0.0  ...   \n",
       "3614                           0.0                          3.0  ...   \n",
       "2108                           0.0                          0.0  ...   \n",
       "7773                           0.0                          0.0  ...   \n",
       "13529                          0.0                          0.0  ...   \n",
       "...                            ...                          ...  ...   \n",
       "11284                          0.0                          6.0  ...   \n",
       "11964                          0.0                          7.0  ...   \n",
       "5390                           0.0                          0.0  ...   \n",
       "860                            0.0                          2.0  ...   \n",
       "15795                          0.0                          0.0  ...   \n",
       "\n",
       "       lastst_736L_MostFreqImp_S  lastst_736L_MostFreqImp_T  \\\n",
       "9434                           0                          0   \n",
       "3614                           0                          0   \n",
       "2108                           0                          0   \n",
       "7773                           0                          0   \n",
       "13529                          0                          0   \n",
       "...                          ...                        ...   \n",
       "11284                          0                          0   \n",
       "11964                          0                          0   \n",
       "5390                           0                          0   \n",
       "860                            0                          0   \n",
       "15795                          0                          0   \n",
       "\n",
       "       lastst_736L_NullValImp_D  lastst_736L_NullValImp_K  \\\n",
       "9434                          0                         0   \n",
       "3614                          0                         0   \n",
       "2108                          0                         1   \n",
       "7773                          0                         0   \n",
       "13529                         0                         0   \n",
       "...                         ...                       ...   \n",
       "11284                         1                         0   \n",
       "11964                         1                         0   \n",
       "5390                          0                         0   \n",
       "860                           0                         0   \n",
       "15795                         0                         0   \n",
       "\n",
       "       lastst_736L_NullValImp_L  lastst_736L_NullValImp_N  \\\n",
       "9434                          0                         0   \n",
       "3614                          0                         0   \n",
       "2108                          0                         0   \n",
       "7773                          0                         0   \n",
       "13529                         0                         0   \n",
       "...                         ...                       ...   \n",
       "11284                         0                         0   \n",
       "11964                         0                         0   \n",
       "5390                          0                         0   \n",
       "860                           0                         0   \n",
       "15795                         0                         0   \n",
       "\n",
       "       lastst_736L_NullValImp_NullValue  lastst_736L_NullValImp_Q  \\\n",
       "9434                                  1                         0   \n",
       "3614                                  0                         0   \n",
       "2108                                  0                         0   \n",
       "7773                                  1                         0   \n",
       "13529                                 1                         0   \n",
       "...                                 ...                       ...   \n",
       "11284                                 0                         0   \n",
       "11964                                 0                         0   \n",
       "5390                                  1                         0   \n",
       "860                                   0                         0   \n",
       "15795                                 1                         0   \n",
       "\n",
       "       lastst_736L_NullValImp_S  lastst_736L_NullValImp_T  \n",
       "9434                          0                         0  \n",
       "3614                          0                         0  \n",
       "2108                          0                         0  \n",
       "7773                          0                         0  \n",
       "13529                         0                         0  \n",
       "...                         ...                       ...  \n",
       "11284                         0                         0  \n",
       "11964                         0                         0  \n",
       "5390                          0                         0  \n",
       "860                           0                         0  \n",
       "15795                         0                         0  \n",
       "\n",
       "[10000 rows x 564 columns]"
      ]
     },
     "execution_count": 26,
     "metadata": {},
     "output_type": "execute_result"
    }
   ],
   "source": [
    "X_train"
   ]
  },
  {
   "cell_type": "code",
   "execution_count": 27,
   "metadata": {},
   "outputs": [
    {
     "data": {
      "text/plain": [
       "9434     0\n",
       "3614     0\n",
       "2108     0\n",
       "7773     0\n",
       "13529    0\n",
       "        ..\n",
       "11284    0\n",
       "11964    0\n",
       "5390     0\n",
       "860      0\n",
       "15795    0\n",
       "Name: target, Length: 10000, dtype: int64"
      ]
     },
     "execution_count": 27,
     "metadata": {},
     "output_type": "execute_result"
    }
   ],
   "source": [
    "y_train"
   ]
  },
  {
   "cell_type": "code",
   "execution_count": 38,
   "metadata": {},
   "outputs": [
    {
     "ename": "RuntimeError",
     "evalue": "There was an error in the TPOT optimization process. This could be because the data was not formatted properly, or because data for a regression problem was provided to the TPOTClassifier object. Please make sure you passed the data to TPOT correctly. If you enabled PyTorch estimators, please check the data requirements in the online documentation: https://epistasislab.github.io/tpot/using/",
     "output_type": "error",
     "traceback": [
      "\u001b[1;31m---------------------------------------------------------------------------\u001b[0m",
      "\u001b[1;31mRuntimeError\u001b[0m                              Traceback (most recent call last)",
      "\u001b[1;32m<ipython-input-38-c33b681ea2d0>\u001b[0m in \u001b[0;36m<module>\u001b[1;34m()\u001b[0m\n\u001b[0;32m      1\u001b[0m \u001b[0mtpot\u001b[0m \u001b[1;33m=\u001b[0m \u001b[0mTPOTClassifier\u001b[0m\u001b[1;33m(\u001b[0m\u001b[0mmax_time_mins\u001b[0m\u001b[1;33m=\u001b[0m\u001b[1;36m30\u001b[0m\u001b[1;33m,\u001b[0m\u001b[0mrandom_state\u001b[0m\u001b[1;33m=\u001b[0m\u001b[1;36m0\u001b[0m\u001b[1;33m,\u001b[0m\u001b[0mscoring\u001b[0m\u001b[1;33m=\u001b[0m\u001b[1;34m'roc_auc'\u001b[0m\u001b[1;33m)\u001b[0m\u001b[1;33m\u001b[0m\u001b[0m\n\u001b[1;32m----> 2\u001b[1;33m \u001b[0mtpot\u001b[0m\u001b[1;33m.\u001b[0m\u001b[0mfit\u001b[0m\u001b[1;33m(\u001b[0m\u001b[0mX_train\u001b[0m\u001b[1;33m,\u001b[0m \u001b[0my_train\u001b[0m\u001b[1;33m)\u001b[0m\u001b[1;33m\u001b[0m\u001b[0m\n\u001b[0m",
      "\u001b[1;32mC:\\ProgramData\\Anaconda3\\lib\\site-packages\\tpot\\base.py\u001b[0m in \u001b[0;36mfit\u001b[1;34m(self, features, target, sample_weight, groups)\u001b[0m\n\u001b[0;32m    754\u001b[0m                     \u001b[1;31m# raise the exception if it's our last attempt\u001b[0m\u001b[1;33m\u001b[0m\u001b[1;33m\u001b[0m\u001b[0m\n\u001b[0;32m    755\u001b[0m                     \u001b[1;32mif\u001b[0m \u001b[0mattempt\u001b[0m \u001b[1;33m==\u001b[0m \u001b[1;33m(\u001b[0m\u001b[0mattempts\u001b[0m \u001b[1;33m-\u001b[0m \u001b[1;36m1\u001b[0m\u001b[1;33m)\u001b[0m\u001b[1;33m:\u001b[0m\u001b[1;33m\u001b[0m\u001b[0m\n\u001b[1;32m--> 756\u001b[1;33m                         \u001b[1;32mraise\u001b[0m \u001b[0me\u001b[0m\u001b[1;33m\u001b[0m\u001b[0m\n\u001b[0m\u001b[0;32m    757\u001b[0m             \u001b[1;32mreturn\u001b[0m \u001b[0mself\u001b[0m\u001b[1;33m\u001b[0m\u001b[0m\n\u001b[0;32m    758\u001b[0m \u001b[1;33m\u001b[0m\u001b[0m\n",
      "\u001b[1;32mC:\\ProgramData\\Anaconda3\\lib\\site-packages\\tpot\\base.py\u001b[0m in \u001b[0;36mfit\u001b[1;34m(self, features, target, sample_weight, groups)\u001b[0m\n\u001b[0;32m    745\u001b[0m                         \u001b[0mself\u001b[0m\u001b[1;33m.\u001b[0m\u001b[0m_pbar\u001b[0m\u001b[1;33m.\u001b[0m\u001b[0mclose\u001b[0m\u001b[1;33m(\u001b[0m\u001b[1;33m)\u001b[0m\u001b[1;33m\u001b[0m\u001b[0m\n\u001b[0;32m    746\u001b[0m \u001b[1;33m\u001b[0m\u001b[0m\n\u001b[1;32m--> 747\u001b[1;33m                     \u001b[0mself\u001b[0m\u001b[1;33m.\u001b[0m\u001b[0m_update_top_pipeline\u001b[0m\u001b[1;33m(\u001b[0m\u001b[1;33m)\u001b[0m\u001b[1;33m\u001b[0m\u001b[0m\n\u001b[0m\u001b[0;32m    748\u001b[0m                     \u001b[0mself\u001b[0m\u001b[1;33m.\u001b[0m\u001b[0m_summary_of_best_pipeline\u001b[0m\u001b[1;33m(\u001b[0m\u001b[0mfeatures\u001b[0m\u001b[1;33m,\u001b[0m \u001b[0mtarget\u001b[0m\u001b[1;33m)\u001b[0m\u001b[1;33m\u001b[0m\u001b[0m\n\u001b[0;32m    749\u001b[0m                     \u001b[1;31m# Delete the temporary cache before exiting\u001b[0m\u001b[1;33m\u001b[0m\u001b[1;33m\u001b[0m\u001b[0m\n",
      "\u001b[1;32mC:\\ProgramData\\Anaconda3\\lib\\site-packages\\tpot\\base.py\u001b[0m in \u001b[0;36m_update_top_pipeline\u001b[1;34m(self)\u001b[0m\n\u001b[0;32m    805\u001b[0m \u001b[1;33m\u001b[0m\u001b[0m\n\u001b[0;32m    806\u001b[0m             \u001b[1;32mif\u001b[0m \u001b[1;32mnot\u001b[0m \u001b[0mself\u001b[0m\u001b[1;33m.\u001b[0m\u001b[0m_optimized_pipeline\u001b[0m\u001b[1;33m:\u001b[0m\u001b[1;33m\u001b[0m\u001b[0m\n\u001b[1;32m--> 807\u001b[1;33m                 raise RuntimeError('There was an error in the TPOT optimization '\n\u001b[0m\u001b[0;32m    808\u001b[0m                                    \u001b[1;34m'process. This could be because the data was '\u001b[0m\u001b[1;33m\u001b[0m\u001b[0m\n\u001b[0;32m    809\u001b[0m                                    \u001b[1;34m'not formatted properly, or because data for '\u001b[0m\u001b[1;33m\u001b[0m\u001b[0m\n",
      "\u001b[1;31mRuntimeError\u001b[0m: There was an error in the TPOT optimization process. This could be because the data was not formatted properly, or because data for a regression problem was provided to the TPOTClassifier object. Please make sure you passed the data to TPOT correctly. If you enabled PyTorch estimators, please check the data requirements in the online documentation: https://epistasislab.github.io/tpot/using/"
     ]
    }
   ],
   "source": [
    "tpot = TPOTClassifier(max_time_mins=30,random_state=0,scoring='roc_auc')\n",
    "tpot.fit(X_train, y_train)"
   ]
  },
  {
   "cell_type": "code",
   "execution_count": null,
   "metadata": {},
   "outputs": [],
   "source": [
    "print(tpot.score(X_train, y_train))\n",
    "print(tpot.score(X_test, y_test))"
   ]
  },
  {
   "cell_type": "code",
   "execution_count": null,
   "metadata": {},
   "outputs": [],
   "source": [
    "tpot.fitted_pipeline_"
   ]
  },
  {
   "cell_type": "code",
   "execution_count": null,
   "metadata": {},
   "outputs": [],
   "source": [
    "tpot.pareto_front_fitted_pipelines_"
   ]
  },
  {
   "cell_type": "code",
   "execution_count": null,
   "metadata": {},
   "outputs": [],
   "source": [
    "tpot.evaluated_individuals_"
   ]
  },
  {
   "cell_type": "code",
   "execution_count": null,
   "metadata": {},
   "outputs": [],
   "source": [
    "exctracted_best_model = tpot.fitted_pipeline_.steps[-1][1]"
   ]
  },
  {
   "cell_type": "code",
   "execution_count": null,
   "metadata": {},
   "outputs": [],
   "source": [
    "exctracted_best_model"
   ]
  },
  {
   "cell_type": "code",
   "execution_count": null,
   "metadata": {},
   "outputs": [],
   "source": [
    "exctracted_best_model.fit(X_train, y_train)"
   ]
  },
  {
   "cell_type": "code",
   "execution_count": null,
   "metadata": {},
   "outputs": [],
   "source": [
    "y_pred=exctracted_best_model.predict(X_test)"
   ]
  },
  {
   "cell_type": "code",
   "execution_count": null,
   "metadata": {},
   "outputs": [],
   "source": [
    "from sklearn.metrics import classification_report\n",
    "from sklearn.metrics import confusion_matrix\n",
    "from sklearn.metrics import plot_confusion_matrix"
   ]
  },
  {
   "cell_type": "code",
   "execution_count": 36,
   "metadata": {},
   "outputs": [],
   "source": [
    "import numpy as np\n",
    "import matplotlib.pyplot as plt\n",
    "from sklearn.metrics import roc_curve, roc_auc_score"
   ]
  },
  {
   "cell_type": "code",
   "execution_count": null,
   "metadata": {},
   "outputs": [],
   "source": [
    "conf=pd.DataFrame(\n",
    "    confusion_matrix(y_test,y_pred)#,\n",
    "    #columns=[],\n",
    "    #index=[]\n",
    "    )\n",
    "print(conf)"
   ]
  },
  {
   "cell_type": "code",
   "execution_count": null,
   "metadata": {},
   "outputs": [],
   "source": [
    "plot_confusion_matrix(exctracted_best_model, X_test, y_test)  \n",
    "plt.show()"
   ]
  },
  {
   "cell_type": "code",
   "execution_count": null,
   "metadata": {},
   "outputs": [],
   "source": [
    "print(classification_report(y_test, y_pred))"
   ]
  },
  {
   "cell_type": "code",
   "execution_count": null,
   "metadata": {},
   "outputs": [],
   "source": [
    "y_pred_proba=exctracted_best_model.predict_proba(X_test)\n",
    "y_pred_proba"
   ]
  },
  {
   "cell_type": "code",
   "execution_count": null,
   "metadata": {},
   "outputs": [],
   "source": [
    "df_y_pred_proba=pd.DataFrame(y_pred_proba, columns=['0','1'])"
   ]
  },
  {
   "cell_type": "code",
   "execution_count": null,
   "metadata": {},
   "outputs": [],
   "source": [
    "df_y_pred_proba['1']"
   ]
  },
  {
   "cell_type": "code",
   "execution_count": null,
   "metadata": {},
   "outputs": [],
   "source": [
    "fpr, tpr, thresholds = roc_curve(y_test, df_y_pred_proba['1'])\n",
    "# Calcular el área bajo la curva ROC (AUC-ROC)\n",
    "auc = roc_auc_score(y_test, df_y_pred_proba['1'])\n",
    "\n",
    "# Tramar la curva ROC\n",
    "plt.plot(fpr, tpr, label=f'ROC curve (AUC = {auc:.4f})')\n",
    "plt.plot([0, 1], [0, 1], 'k--')  # Línea diagonal para referencia\n",
    "plt.xlabel('Tasa de Falsos Positivos')\n",
    "plt.ylabel('Tasa de Verdaderos Positivos')\n",
    "plt.title('Curva ROC')\n",
    "plt.legend(loc='lower right')\n",
    "plt.show()"
   ]
  },
  {
   "cell_type": "code",
   "execution_count": null,
   "metadata": {},
   "outputs": [],
   "source": [
    "exctracted_best_model.feature_importances_"
   ]
  },
  {
   "cell_type": "code",
   "execution_count": null,
   "metadata": {},
   "outputs": [],
   "source": [
    "df_feature_importance = pd.DataFrame(columns=['Campo','Importancia'])\n",
    "for i in range(exctracted_best_model.feature_importances_.shape[0]):\n",
    "    df_feature_importance.loc[i,'Campo']=X_train.columns[i]\n",
    "    df_feature_importance.loc[i,'Importancia']=exctracted_best_model.feature_importances_[i]"
   ]
  },
  {
   "cell_type": "code",
   "execution_count": null,
   "metadata": {},
   "outputs": [],
   "source": [
    "df_feature_importance=df_feature_importance.sort_values('Importancia',ascending=False)"
   ]
  },
  {
   "cell_type": "code",
   "execution_count": null,
   "metadata": {},
   "outputs": [],
   "source": [
    "df_feature_importance=df_feature_importance.reset_index(drop=True)"
   ]
  },
  {
   "cell_type": "code",
   "execution_count": null,
   "metadata": {},
   "outputs": [],
   "source": [
    "df_feature_importance['Importancia_acumulada']=0\n",
    "Importancia_acumulada=0\n",
    "for i in range(df_feature_importance.shape[0]):\n",
    "    Importancia_acumulada=Importancia_acumulada+df_feature_importance.loc[i,'Importancia']\n",
    "    df_feature_importance.loc[i,'Importancia_acumulada']=Importancia_acumulada   "
   ]
  },
  {
   "cell_type": "code",
   "execution_count": null,
   "metadata": {},
   "outputs": [],
   "source": [
    "X.columns.size"
   ]
  },
  {
   "cell_type": "code",
   "execution_count": null,
   "metadata": {},
   "outputs": [],
   "source": [
    "df_feature_importance_2=df_feature_importance.set_index('Campo')\n",
    "df_feature_importance_2.head(10)"
   ]
  },
  {
   "cell_type": "code",
   "execution_count": null,
   "metadata": {},
   "outputs": [],
   "source": [
    "df_feature_importance_2.head(50)"
   ]
  },
  {
   "cell_type": "code",
   "execution_count": null,
   "metadata": {},
   "outputs": [],
   "source": [
    "df_feature_importance_2.head(22).plot(kind='barh')"
   ]
  },
  {
   "cell_type": "markdown",
   "metadata": {},
   "source": [
    "## 6.3 Modelización mediante XGBoost"
   ]
  },
  {
   "cell_type": "code",
   "execution_count": 29,
   "metadata": {},
   "outputs": [],
   "source": [
    "from xgboost import XGBClassifier"
   ]
  },
  {
   "cell_type": "code",
   "execution_count": 30,
   "metadata": {},
   "outputs": [],
   "source": [
    "model = XGBClassifier()"
   ]
  },
  {
   "cell_type": "code",
   "execution_count": 31,
   "metadata": {},
   "outputs": [
    {
     "data": {
      "text/plain": [
       "XGBClassifier(base_score=0.5, booster=None, colsample_bylevel=1,\n",
       "              colsample_bynode=1, colsample_bytree=1, gamma=0, gpu_id=-1,\n",
       "              importance_type='gain', interaction_constraints=None,\n",
       "              learning_rate=0.300000012, max_delta_step=0, max_depth=6,\n",
       "              min_child_weight=1, missing=nan, monotone_constraints=None,\n",
       "              n_estimators=100, n_jobs=0, num_parallel_tree=1, random_state=0,\n",
       "              reg_alpha=0, reg_lambda=1, scale_pos_weight=1, subsample=1,\n",
       "              tree_method=None, validate_parameters=False, verbosity=None)"
      ]
     },
     "execution_count": 31,
     "metadata": {},
     "output_type": "execute_result"
    }
   ],
   "source": [
    "model.fit(X_train, y_train)"
   ]
  },
  {
   "cell_type": "code",
   "execution_count": 32,
   "metadata": {},
   "outputs": [],
   "source": [
    "y_pred=model.predict(X_test)"
   ]
  },
  {
   "cell_type": "code",
   "execution_count": 33,
   "metadata": {},
   "outputs": [],
   "source": [
    "y_pred_proba=model.predict_proba(X_test)"
   ]
  },
  {
   "cell_type": "code",
   "execution_count": 34,
   "metadata": {},
   "outputs": [],
   "source": [
    "df_y_pred_proba=pd.DataFrame(y_pred_proba, columns=['0','1'])"
   ]
  },
  {
   "cell_type": "code",
   "execution_count": 37,
   "metadata": {},
   "outputs": [
    {
     "data": {
      "image/png": "[encoded data removed]",
      "text/plain": [
       "<Figure size 432x288 with 1 Axes>"
      ]
     },
     "metadata": {
      "needs_background": "light"
     },
     "output_type": "display_data"
    }
   ],
   "source": [
    "fpr, tpr, thresholds = roc_curve(y_test, df_y_pred_proba['1'])\n",
    "# Calcular el área bajo la curva ROC (AUC-ROC)\n",
    "auc = roc_auc_score(y_test, df_y_pred_proba['1'])\n",
    "\n",
    "# Tramar la curva ROC\n",
    "plt.plot(fpr, tpr, label=f'ROC curve (AUC = {auc:.4f})')\n",
    "plt.plot([0, 1], [0, 1], 'k--')  # Línea diagonal para referencia\n",
    "plt.xlabel('Tasa de Falsos Positivos')\n",
    "plt.ylabel('Tasa de Verdaderos Positivos')\n",
    "plt.title('Curva ROC')\n",
    "plt.legend(loc='lower right')\n",
    "plt.show()"
   ]
  },
  {
   "cell_type": "markdown",
   "metadata": {},
   "source": [
    "### 6.4.- SHAP values"
   ]
  },
  {
   "cell_type": "code",
   "execution_count": null,
   "metadata": {},
   "outputs": [],
   "source": [
    "#!pip install shap"
   ]
  },
  {
   "cell_type": "code",
   "execution_count": null,
   "metadata": {},
   "outputs": [],
   "source": [
    "import shap"
   ]
  },
  {
   "cell_type": "code",
   "execution_count": null,
   "metadata": {},
   "outputs": [],
   "source": [
    "ds_shap=X_train.copy()\n",
    "ds_shap"
   ]
  },
  {
   "cell_type": "code",
   "execution_count": null,
   "metadata": {},
   "outputs": [],
   "source": [
    "X=ds_shap.values"
   ]
  },
  {
   "cell_type": "code",
   "execution_count": null,
   "metadata": {},
   "outputs": [],
   "source": [
    "explainer=shap.TreeExplainer(exctracted_best_model)"
   ]
  },
  {
   "cell_type": "code",
   "execution_count": null,
   "metadata": {},
   "outputs": [],
   "source": [
    "shap_values=explainer.shap_values(X)"
   ]
  },
  {
   "cell_type": "code",
   "execution_count": null,
   "metadata": {},
   "outputs": [],
   "source": [
    "shap_values.shape"
   ]
  },
  {
   "cell_type": "code",
   "execution_count": null,
   "metadata": {},
   "outputs": [],
   "source": [
    "shap_values[0].sum()"
   ]
  },
  {
   "cell_type": "code",
   "execution_count": null,
   "metadata": {},
   "outputs": [],
   "source": [
    "shap_values[18600]"
   ]
  },
  {
   "cell_type": "markdown",
   "metadata": {},
   "source": [
    "# 7.- Importancia de variables <a name=\"importancia_variables\"></a>"
   ]
  },
  {
   "cell_type": "markdown",
   "metadata": {},
   "source": [
    "[Volver al índice](#indice)"
   ]
  },
  {
   "cell_type": "markdown",
   "metadata": {},
   "source": [
    "# 7.- Pipelines"
   ]
  },
  {
   "cell_type": "code",
   "execution_count": null,
   "metadata": {},
   "outputs": [],
   "source": [
    "from sklearn.pipeline import Pipeline\n",
    "from sklearn.preprocessing import StandardScaler\n",
    "from sklearn.linear_model import LogisticRegression\n",
    "\n",
    "# Definir el pipeline\n",
    "pipeline = Pipeline([\n",
    "    ('std_scaler', StandardScaler()),  # Paso de preprocesamiento\n",
    "    ('log_reg', LogisticRegression())  # Paso de modelado\n",
    "])\n",
    "\n",
    "# Ahora puedes ajustar y predecir con el pipeline\n",
    "pipeline.fit(X_train, y_train)\n",
    "predictions = pipeline.predict(X_test)"
   ]
  }
 ],
 "metadata": {
  "kernelspec": {
   "display_name": "Python 3",
   "language": "python",
   "name": "python3"
  },
  "language_info": {
   "codemirror_mode": {
    "name": "ipython",
    "version": 3
   },
   "file_extension": ".py",
   "mimetype": "text/x-python",
   "name": "python",
   "nbconvert_exporter": "python",
   "pygments_lexer": "ipython3",
   "version": "3.7.0"
  }
 },
 "nbformat": 4,
 "nbformat_minor": 2
}
